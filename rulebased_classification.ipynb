{
 "cells": [
  {
   "cell_type": "code",
   "execution_count": 2,
   "metadata": {},
   "outputs": [
    {
     "name": "stderr",
     "output_type": "stream",
     "text": [
      "/Library/Frameworks/Python.framework/Versions/3.11/lib/python3.11/site-packages/transformers/utils/generic.py:441: UserWarning: torch.utils._pytree._register_pytree_node is deprecated. Please use torch.utils._pytree.register_pytree_node instead.\n",
      "  _torch_pytree._register_pytree_node(\n",
      "/Library/Frameworks/Python.framework/Versions/3.11/lib/python3.11/site-packages/transformers/utils/generic.py:309: UserWarning: torch.utils._pytree._register_pytree_node is deprecated. Please use torch.utils._pytree.register_pytree_node instead.\n",
      "  _torch_pytree._register_pytree_node(\n"
     ]
    }
   ],
   "source": [
    "# This notebook with deal with making a rule based solution by collecting necessary features and then using a random forrest model.\n",
    "import os\n",
    "import spacy\n",
    "from spacy.matcher import Matcher\n",
    "\n",
    "nlp = spacy.load(\"en_core_web_sm\")"
   ]
  },
  {
   "cell_type": "code",
   "execution_count": 40,
   "metadata": {},
   "outputs": [],
   "source": [
    "\n",
    "# Add match ID \"HelloWorld\" with no callback and one pattern\n",
    "apply_patterns=[\n",
    "     [{\"LEMMA\":\"receive\"},{\"LOWER\": \"your\"},{\"LOWER\": \"application\"}],\n",
    "     [{\"LEMMA\":\"receive\"},{\"LOWER\": \"your\"},{\"LOWER\": \"submission\"}],\n",
    "     [{\"LEMMA\":\"review\"},{\"LOWER\": \"your\"},{\"LOWER\": \"application\"}],\n",
    "     [{\"LEMMA\":\"review\"},{\"LOWER\": \"your\"},{\"LOWER\": \"submission\"}],\n",
    "     [{\"LEMMA\":\"review\"},{\"LOWER\": \"your\"},{\"LOWER\": \"resume\"}],\n",
    "     [{\"LEMMA\":\"receive\"},{\"LOWER\": \"your\"},{\"LOWER\": \"resume\"}],\n",
    "     [{\"LOWER\":\"application\"},{\"LOWER\": \"has\"},{\"LOWER\": \"been\"},{\"LEMMA\": \"receive\"}],\n",
    "\n",
    "     [{\"LOWER\":\"we\"},{\"LOWER\": \"will\"},{\"LOWER\": \"review\"}],\n",
    "     [{'LOWER': 'currently'},{'LOWER': 'reviewing'}],\n",
    "     [{'LEMMA': 'thank'},{'LOWER': 'for'},{'LOWER': 'applying'}],\n",
    "     [{'LOWER': 'thank'},{'LOWER': 'you'},{'POS': 'ADV', 'OP': '*'},{'LOWER': 'for'},{'LOWER': 'your'},{'LOWER': 'application'}],\n",
    "     [{'LOWER': 'thank'},{'LOWER': 'you'},{'POS': 'ADV', 'OP': '*'},{'LOWER': 'for'},{'LOWER': 'your'},{'LOWER': 'interest'},{'POS': 'ADP', 'OP': '?'},{'POS': 'PROPN', 'OP': '*'}],\n",
    "     [{'LOWER': 'thank'},{'LOWER': 'you'},{'LOWER': 'for'},{'LOWER': 'applying'},{'IS_STOP': True},{'POS':\"PROPN\",\"OP\":'*'}],\n",
    "     [{'LOWER': 'thank'},{'LOWER': 'you'},{'LOWER': 'for'},{'LOWER': 'submitting'},{'LOWER': 'your'},{'LOWER': 'resume'}],\n",
    "      [{\"LOWER\":\"will\"},{\"LOWER\": \"be\"},{\"LEMMA\": \"review\"}],\n",
    "      [{\"LOWER\":\"your\"},{\"LOWER\": \"application\"}],\n",
    "      [{\"LEMMA\":\"submit\"}],\n",
    "      [{\"LEMMA\":\"review\"}],\n",
    "      [{\"LEMMA\":\"application\"}],\n",
    "      [{'POS':\"NOUN\"},{\"LOWER\":'team'}],\n",
    "      [{'POS':\"PROPN\",\"OP\":\"*\"},{\"LOWER\":'team'}],\n",
    "          ]\n",
    "matcher = Matcher(nlp.vocab)\n",
    "#matcher.add(\"apply\",apply_patterns,greedy='LONGEST' )\n",
    "\n",
    "reject_patterns=[\n",
    "    [{\"LOWER\":\"although\"}],\n",
    "    [{\"LOWER\":\"however\"}],\n",
    "    [{\"LOWER\":\"regret\"}],\n",
    "    [{\"LOWER\":\"unable\"}],\n",
    "    [{\"LOWER\":\"unfortunately\"}],\n",
    "    [{\"LOWER\":\"unsuccessful\"}],\n",
    "    [{\"LOWER\":\"not\"},{\"POS\":\"AUX\",\"OP\":\"?\"},{\"LEMMA\":\"select\"}],\n",
    "     [{\"LOWER\":\"at\"},{\"LOWER\": \"this\"},{\"LOWER\": \"time\"}],\n",
    "     [{\"LOWER\":\"not\"},{\"POS\": \"AUX\"},{\"LEMMA\": \"move\"},{\"LOWER\": \"forward\"}],\n",
    "     [{'LOWER': 'no'},{'LOWER': 'longer'},{'LOWER': 'under'},{'LOWER': 'consideration'}],\n",
    "     [{'LOWER': 'has'},{'LOWER': 'been'},{'LOWER': 'filled'}],\n",
    "     [{'LOWER': 'other'},{'LEMMA': 'candidate'}],\n",
    "     [{'LOWER': 'different'},{'LEMMA': 'candidate'}],\n",
    "\n",
    "     [{'LOWER': 'other'},{'LEMMA': 'applicant'}],\n",
    "     [{'LOWER': 'different'},{'LEMMA': 'applicant'}],\n",
    "     [{'LOWER': 'we'},{'LOWER': 'have'},{'LOWER': 'decided'}],\n",
    "        \n",
    "]\n",
    "matcher.add(\"reject\",reject_patterns,greedy='LONGEST' )"
   ]
  },
  {
   "cell_type": "code",
   "execution_count": 41,
   "metadata": {},
   "outputs": [
    {
     "name": "stdout",
     "output_type": "stream",
     "text": [
      "4742694774208431406 reject 45 47 not selected\n",
      "4742694774208431406 reject 33 34 Although\n"
     ]
    }
   ],
   "source": [
    "file='reject/reject1.txt'\n",
    "with open(file, 'r') as f:\n",
    "    content = f.read()\n",
    "doc = nlp(content)\n",
    "matches = matcher(doc)\n",
    "for match_id, start, end in matches:\n",
    "    string_id = nlp.vocab.strings[match_id]  # Get string representation\n",
    "    span = doc[start:end]  # The matched span\n",
    "    print(match_id, string_id, start, end, span.text)"
   ]
  },
  {
   "cell_type": "code",
   "execution_count": 42,
   "metadata": {},
   "outputs": [],
   "source": [
    "directory=\"reject\"\n",
    "all_files=os.listdir(directory)\n",
    "for file in all_files:\n",
    "#file='apply/apply66.txt'\n",
    "    with open(os.path.join(directory,file), 'r') as f:\n",
    "        content = f.read()\n",
    "    doc = nlp(content)\n",
    "    matches = matcher(doc)\n",
    "    if len(matches)<2:\n",
    "        print(file)\n",
    "        for match_id, start, end in matches:\n",
    "            string_id = nlp.vocab.strings[match_id]  # Get string representation\n",
    "            span = doc[start:end]  # The matched span\n",
    "            print(match_id, string_id, start, end, span.text)"
   ]
  },
  {
   "cell_type": "code",
   "execution_count": null,
   "metadata": {},
   "outputs": [],
   "source": []
  },
  {
   "cell_type": "code",
   "execution_count": null,
   "metadata": {},
   "outputs": [],
   "source": []
  }
 ],
 "metadata": {
  "kernelspec": {
   "display_name": "Python 3",
   "language": "python",
   "name": "python3"
  },
  "language_info": {
   "codemirror_mode": {
    "name": "ipython",
    "version": 3
   },
   "file_extension": ".py",
   "mimetype": "text/x-python",
   "name": "python",
   "nbconvert_exporter": "python",
   "pygments_lexer": "ipython3",
   "version": "3.11.3"
  }
 },
 "nbformat": 4,
 "nbformat_minor": 2
}
