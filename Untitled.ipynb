{
 "cells": [
  {
   "cell_type": "code",
   "execution_count": null,
   "id": "3e43eef5-1b2d-4ebe-879a-43669125ac85",
   "metadata": {},
   "outputs": [],
   "source": [
    "import json\n",
    "with open('annotations86.json', 'r') as file:\n",
    "    data = json.load(file)\n",
    "i=0\n",
    "print(data)\n"
   ]
  },
  {
   "cell_type": "code",
   "execution_count": 27,
   "id": "a869817f-cf54-408d-9a6d-d28e54b07c68",
   "metadata": {},
   "outputs": [
    {
     "data": {
      "text/plain": [
       "('Sender:Vontier Human Resources <hr-vontier@invalidemail.com>. Subject:C#.NET Software Developer Intern (Summer 2024)-MAT002499. Mail:Hi Richard, Thank you for applying to MAT002499 - C#.NET Software Developer Intern (Summer 2024) at Matco Tools Corporation. We’ve received your resume/CV and want you to know that we appreciate your interest in applying for our opening. Your information is now in the Matco Tools Corporation database, where it will be available to recruiters who specialize in areas that match your skills and interests. We will be contacting those whose profiles best match our requirements soon. Again, thank you for considering Matco Tools Corporation as a potential employer. To learn more about the company and our global career opportunities, please visit http://www.vontier.com. Best regards, Talent Acquisition Team Matco Tools Corporation To access your profile at any time, click here. As a reminder, your username is: kelvin2001 If you do not remember your password, please use the \"Forgot Password\" link. Replies to this message are undeliverable and will not reach the Talent Acquisition Team. Please do not reply.',\n",
       " [(171, 229, 'JOB TITLE'),\n",
       "  (233, 257, 'COMPANY'),\n",
       "  (402, 425, 'COMPANY'),\n",
       "  (649, 672, 'COMPANY'),\n",
       "  (842, 865, 'COMPANY')])"
      ]
     },
     "execution_count": 27,
     "metadata": {},
     "output_type": "execute_result"
    }
   ],
   "source": [
    "ideal_format=[]\n",
    "for row in data[\"annotations\"]:\n",
    "    text=row[0]\n",
    "    entities=[tuple(i) for i in row[1]['entities']]\n",
    "    ideal_format.append((text,entities))\n",
    "ideal_format[1]"
   ]
  },
  {
   "cell_type": "code",
   "execution_count": null,
   "id": "f356b236-2915-49ee-b34c-74e21fed6073",
   "metadata": {},
   "outputs": [],
   "source": []
  }
 ],
 "metadata": {
  "kernelspec": {
   "display_name": "Python 3 (ipykernel)",
   "language": "python",
   "name": "python3"
  },
  "language_info": {
   "codemirror_mode": {
    "name": "ipython",
    "version": 3
   },
   "file_extension": ".py",
   "mimetype": "text/x-python",
   "name": "python",
   "nbconvert_exporter": "python",
   "pygments_lexer": "ipython3",
   "version": "3.11.3"
  }
 },
 "nbformat": 4,
 "nbformat_minor": 5
}
