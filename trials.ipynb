{
 "cells": [
  {
   "cell_type": "code",
   "execution_count": 5,
   "metadata": {},
   "outputs": [
    {
     "name": "stdout",
     "output_type": "stream",
     "text": [
      "    SPACE _SP dep   False False\n",
      "Dear Dear PROPN NNP compound Xxxx True False\n",
      "Kelvin Kelvin PROPN NNP npadvmod Xxxxx True False\n",
      ", , PUNCT , punct , False False\n",
      "We we PRON PRP nsubj Xx True True\n",
      "greatly greatly ADV RB advmod xxxx True False\n",
      "appreciate appreciate VERB VBP ROOT xxxx True False\n",
      "your your PRON PRP$ poss xxxx True True\n",
      "time time NOUN NN dobj xxxx True False\n",
      "in in ADP IN prep xx True True\n",
      "applying apply VERB VBG pcomp xxxx True False\n",
      "and and CCONJ CC cc xxx True True\n",
      "interest interest NOUN NN conj xxxx True False\n",
      "in in ADP IN prep xx True True\n",
      "joining join VERB VBG pcomp xxxx True False\n",
      "Lightmatter Lightmatter PROPN NNP dobj Xxxxx True False\n",
      "! ! PUNCT . punct ! False False\n",
      ". . PUNCT . punct . False False\n"
     ]
    }
   ],
   "source": [
    "import spacy\n",
    "\n",
    "nlp = spacy.load(\"en_core_web_sm\")\n",
    "doc = nlp(\" Dear Kelvin, We greatly appreciate your time in applying and interest in joining Lightmatter!.\")\n",
    "\n",
    "for token in doc:\n",
    "    print(token.text, token.lemma_, token.pos_, token.tag_, token.dep_,\n",
    "            token.shape_, token.is_alpha, token.is_stop)"
   ]
  },
  {
   "cell_type": "code",
   "execution_count": 2,
   "metadata": {},
   "outputs": [
    {
     "data": {
      "text/plain": [
       "'auxiliary'"
      ]
     },
     "execution_count": 2,
     "metadata": {},
     "output_type": "execute_result"
    }
   ],
   "source": [
    "spacy.explain(\"AUX\")"
   ]
  },
  {
   "cell_type": "code",
   "execution_count": null,
   "metadata": {},
   "outputs": [],
   "source": []
  }
 ],
 "metadata": {
  "kernelspec": {
   "display_name": "Python 3",
   "language": "python",
   "name": "python3"
  },
  "language_info": {
   "codemirror_mode": {
    "name": "ipython",
    "version": 3
   },
   "file_extension": ".py",
   "mimetype": "text/x-python",
   "name": "python",
   "nbconvert_exporter": "python",
   "pygments_lexer": "ipython3",
   "version": "3.11.3"
  }
 },
 "nbformat": 4,
 "nbformat_minor": 2
}
